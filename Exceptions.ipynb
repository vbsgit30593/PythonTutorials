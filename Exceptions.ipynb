{
 "cells": [
  {
   "cell_type": "markdown",
   "id": "887c5d02-0808-4a8a-9427-87e3de0f363b",
   "metadata": {},
   "source": [
    "## Exceptions"
   ]
  },
  {
   "cell_type": "code",
   "execution_count": 2,
   "id": "e41fd2d2-9192-457b-98a8-880691180d31",
   "metadata": {},
   "outputs": [
    {
     "name": "stdout",
     "output_type": "stream",
     "text": [
      "A\n",
      "A\n",
      "A\n"
     ]
    }
   ],
   "source": [
    "class Base(Exception):\n",
    "    def __init__(self):\n",
    "        print (\"Base\")\n",
    "\n",
    "class A(Base):\n",
    "    def __init__(self):\n",
    "        pass\n",
    "\n",
    "\n",
    "class B(A):\n",
    "    def __init__(self):\n",
    "        pass\n",
    "\n",
    "\n",
    "class C(B):\n",
    "    def __init__(self):\n",
    "        pass\n",
    "\n",
    "for cls in [A, B, C]:\n",
    "    try:\n",
    "        raise cls()\n",
    "    except A:\n",
    "        print (\"A\")\n",
    "    except B:\n",
    "        print (\"B\")\n",
    "    except C:\n",
    "        print (\"C\")"
   ]
  },
  {
   "cell_type": "markdown",
   "id": "ecbfa6df-cc06-4b8d-a4fa-baa629d1eda5",
   "metadata": {},
   "source": [
    "## Note above that the same exception A is matched since it is the base class for all other classes\n",
    "### order of exceptions matter"
   ]
  },
  {
   "cell_type": "code",
   "execution_count": 9,
   "id": "52600d6d-28e2-4045-b362-dd1d413a4e8e",
   "metadata": {},
   "outputs": [
    {
     "name": "stdout",
     "output_type": "stream",
     "text": [
      "A\n",
      "B\n",
      "C\n"
     ]
    }
   ],
   "source": [
    "class Base(Exception):\n",
    "    def __init__(self):\n",
    "        print (\"Base\")\n",
    "\n",
    "class A(Base):\n",
    "    def __init__(self):\n",
    "        pass\n",
    "\n",
    "\n",
    "class B(A):\n",
    "    def __init__(self):\n",
    "        pass\n",
    "\n",
    "\n",
    "class C(B):\n",
    "    def __init__(self):\n",
    "        pass\n",
    "\n",
    "for cls in [A, B, C]:\n",
    "    try:\n",
    "        raise cls()\n",
    "    except C:\n",
    "        print (\"C\")\n",
    "    except B:\n",
    "        print (\"B\")\n",
    "    except A:\n",
    "        print (\"A\")"
   ]
  },
  {
   "cell_type": "markdown",
   "id": "0c1b16e8-cc08-4237-8d9a-d415bbf7420d",
   "metadata": {},
   "source": [
    "## Passing args to exceptions"
   ]
  },
  {
   "cell_type": "code",
   "execution_count": 10,
   "id": "4e21f0df-fb9c-4ae7-b2ca-30f4f2f43365",
   "metadata": {},
   "outputs": [
    {
     "name": "stdout",
     "output_type": "stream",
     "text": [
      "('spam', 'except')\n",
      "('spam', 'except')\n"
     ]
    }
   ],
   "source": [
    "try:\n",
    "    raise Exception(\"spam\", \"except\")\n",
    "except Exception as inst:\n",
    "    print (inst) # The __str__ function ensures that inst.args is printed\n",
    "    print (inst.args)"
   ]
  },
  {
   "cell_type": "markdown",
   "id": "f8908ec2-0bde-4f56-b0de-87ab38366c81",
   "metadata": {},
   "source": [
    "## try-except-else\n",
    "* the else clause is used to trigger statements if try clause didn't raise an exception\n",
    "    * this is better than putting lots of stuff in the try block which might raise an exception for something we weren't targeting to protect"
   ]
  },
  {
   "cell_type": "code",
   "execution_count": 15,
   "id": "eb691dbb-b3db-4f4a-b703-b0c04d2b4bfd",
   "metadata": {},
   "outputs": [
    {
     "name": "stdout",
     "output_type": "stream",
     "text": [
      "abc has 1 lines\n",
      "Exception: [Errno 2] No such file or directory: 'abcd'\n"
     ]
    }
   ],
   "source": [
    "fnames = [\"abc\", \"abcd\"]\n",
    "for fname in fnames:\n",
    "    try:\n",
    "        f = open(fname, 'r')\n",
    "    except OSError as os:\n",
    "        print(f\"Exception: {os}\")\n",
    "    else:\n",
    "        print (f\"{fname} has {len(f.readlines())} lines\")\n",
    "        f.close()\n",
    "    "
   ]
  },
  {
   "cell_type": "markdown",
   "id": "dbacf804-7fe4-4253-93a1-37de676dd1e1",
   "metadata": {},
   "source": [
    "## raising exceptions"
   ]
  },
  {
   "cell_type": "code",
   "execution_count": 17,
   "id": "653b58ce-d31c-40fe-8ad6-e328c018dffe",
   "metadata": {},
   "outputs": [
    {
     "ename": "FileNotFoundError",
     "evalue": "boo",
     "output_type": "error",
     "traceback": [
      "\u001b[0;31m---------------------------------------------------------------------------\u001b[0m",
      "\u001b[0;31mFileNotFoundError\u001b[0m                         Traceback (most recent call last)",
      "Cell \u001b[0;32mIn[17], line 1\u001b[0m\n\u001b[0;32m----> 1\u001b[0m \u001b[38;5;28;01mraise\u001b[39;00m \u001b[38;5;167;01mFileNotFoundError\u001b[39;00m(\u001b[38;5;124m\"\u001b[39m\u001b[38;5;124mboo\u001b[39m\u001b[38;5;124m\"\u001b[39m)\n",
      "\u001b[0;31mFileNotFoundError\u001b[0m: boo"
     ]
    }
   ],
   "source": [
    "raise FileNotFoundError(\"boo\")"
   ]
  },
  {
   "cell_type": "code",
   "execution_count": 18,
   "id": "413a009a-9a30-4ec5-8ee9-8bd12b53931e",
   "metadata": {},
   "outputs": [
    {
     "ename": "ValueError",
     "evalue": "",
     "output_type": "error",
     "traceback": [
      "\u001b[0;31m---------------------------------------------------------------------------\u001b[0m",
      "\u001b[0;31mValueError\u001b[0m                                Traceback (most recent call last)",
      "Cell \u001b[0;32mIn[18], line 1\u001b[0m\n\u001b[0;32m----> 1\u001b[0m \u001b[38;5;28;01mraise\u001b[39;00m \u001b[38;5;167;01mValueError\u001b[39;00m\n",
      "\u001b[0;31mValueError\u001b[0m: "
     ]
    }
   ],
   "source": [
    "raise ValueError"
   ]
  },
  {
   "cell_type": "code",
   "execution_count": 21,
   "id": "0b26c22f-e602-4250-9cf5-f23f0b54b510",
   "metadata": {},
   "outputs": [
    {
     "name": "stdout",
     "output_type": "stream",
     "text": [
      "Exception raised\n"
     ]
    },
    {
     "ename": "NameError",
     "evalue": "name",
     "output_type": "error",
     "traceback": [
      "\u001b[0;31m---------------------------------------------------------------------------\u001b[0m",
      "\u001b[0;31mNameError\u001b[0m                                 Traceback (most recent call last)",
      "Cell \u001b[0;32mIn[21], line 3\u001b[0m\n\u001b[1;32m      1\u001b[0m \u001b[38;5;66;03m# When you want to determine the exception is raised dont want to handle it\u001b[39;00m\n\u001b[1;32m      2\u001b[0m \u001b[38;5;28;01mtry\u001b[39;00m:\n\u001b[0;32m----> 3\u001b[0m     \u001b[38;5;28;01mraise\u001b[39;00m \u001b[38;5;167;01mNameError\u001b[39;00m(\u001b[38;5;124m\"\u001b[39m\u001b[38;5;124mname\u001b[39m\u001b[38;5;124m\"\u001b[39m)\n\u001b[1;32m      4\u001b[0m \u001b[38;5;28;01mexcept\u001b[39;00m \u001b[38;5;167;01mNameError\u001b[39;00m:\n\u001b[1;32m      5\u001b[0m     \u001b[38;5;28mprint\u001b[39m (\u001b[38;5;124m\"\u001b[39m\u001b[38;5;124mException raised\u001b[39m\u001b[38;5;124m\"\u001b[39m)\n",
      "\u001b[0;31mNameError\u001b[0m: name"
     ]
    }
   ],
   "source": [
    "# When you want to determine the exception is raised dont want to handle it\n",
    "try:\n",
    "    raise NameError(\"name\")\n",
    "except NameError:\n",
    "    print (\"Exception raised\")\n",
    "    raise"
   ]
  },
  {
   "cell_type": "markdown",
   "id": "f09b3c24-711c-4f40-a435-3478f34590d1",
   "metadata": {},
   "source": [
    "## Exception chaining\n",
    "* Case when an unhandled exception occurs inside an except section, it will be highlighted in the error message"
   ]
  },
  {
   "cell_type": "code",
   "execution_count": 24,
   "id": "8846cd02-8b88-45f1-9ede-bccb58dcbcb4",
   "metadata": {},
   "outputs": [
    {
     "ename": "RuntimeError",
     "evalue": "Unable to handle error",
     "output_type": "error",
     "traceback": [
      "\u001b[0;31m---------------------------------------------------------------------------\u001b[0m",
      "\u001b[0;31mFileNotFoundError\u001b[0m                         Traceback (most recent call last)",
      "Cell \u001b[0;32mIn[24], line 2\u001b[0m\n\u001b[1;32m      1\u001b[0m \u001b[38;5;28;01mtry\u001b[39;00m:\n\u001b[0;32m----> 2\u001b[0m     \u001b[38;5;28;43mopen\u001b[39;49m\u001b[43m(\u001b[49m\u001b[38;5;124;43m\"\u001b[39;49m\u001b[38;5;124;43mdatabase.sqlite\u001b[39;49m\u001b[38;5;124;43m\"\u001b[39;49m\u001b[43m)\u001b[49m\n\u001b[1;32m      3\u001b[0m \u001b[38;5;28;01mexcept\u001b[39;00m \u001b[38;5;167;01mOSError\u001b[39;00m:\n",
      "File \u001b[0;32m/opt/homebrew/lib/python3.11/site-packages/IPython/core/interactiveshell.py:286\u001b[0m, in \u001b[0;36m_modified_open\u001b[0;34m(file, *args, **kwargs)\u001b[0m\n\u001b[1;32m    280\u001b[0m     \u001b[38;5;28;01mraise\u001b[39;00m \u001b[38;5;167;01mValueError\u001b[39;00m(\n\u001b[1;32m    281\u001b[0m         \u001b[38;5;124mf\u001b[39m\u001b[38;5;124m\"\u001b[39m\u001b[38;5;124mIPython won\u001b[39m\u001b[38;5;124m'\u001b[39m\u001b[38;5;124mt let you open fd=\u001b[39m\u001b[38;5;132;01m{\u001b[39;00mfile\u001b[38;5;132;01m}\u001b[39;00m\u001b[38;5;124m by default \u001b[39m\u001b[38;5;124m\"\u001b[39m\n\u001b[1;32m    282\u001b[0m         \u001b[38;5;124m\"\u001b[39m\u001b[38;5;124mas it is likely to crash IPython. If you know what you are doing, \u001b[39m\u001b[38;5;124m\"\u001b[39m\n\u001b[1;32m    283\u001b[0m         \u001b[38;5;124m\"\u001b[39m\u001b[38;5;124myou can use builtins\u001b[39m\u001b[38;5;124m'\u001b[39m\u001b[38;5;124m open.\u001b[39m\u001b[38;5;124m\"\u001b[39m\n\u001b[1;32m    284\u001b[0m     )\n\u001b[0;32m--> 286\u001b[0m \u001b[38;5;28;01mreturn\u001b[39;00m \u001b[43mio_open\u001b[49m\u001b[43m(\u001b[49m\u001b[43mfile\u001b[49m\u001b[43m,\u001b[49m\u001b[43m \u001b[49m\u001b[38;5;241;43m*\u001b[39;49m\u001b[43margs\u001b[49m\u001b[43m,\u001b[49m\u001b[43m \u001b[49m\u001b[38;5;241;43m*\u001b[39;49m\u001b[38;5;241;43m*\u001b[39;49m\u001b[43mkwargs\u001b[49m\u001b[43m)\u001b[49m\n",
      "\u001b[0;31mFileNotFoundError\u001b[0m: [Errno 2] No such file or directory: 'database.sqlite'",
      "\nDuring handling of the above exception, another exception occurred:\n",
      "\u001b[0;31mRuntimeError\u001b[0m                              Traceback (most recent call last)",
      "Cell \u001b[0;32mIn[24], line 4\u001b[0m\n\u001b[1;32m      2\u001b[0m     \u001b[38;5;28mopen\u001b[39m(\u001b[38;5;124m\"\u001b[39m\u001b[38;5;124mdatabase.sqlite\u001b[39m\u001b[38;5;124m\"\u001b[39m)\n\u001b[1;32m      3\u001b[0m \u001b[38;5;28;01mexcept\u001b[39;00m \u001b[38;5;167;01mOSError\u001b[39;00m:\n\u001b[0;32m----> 4\u001b[0m     \u001b[38;5;28;01mraise\u001b[39;00m \u001b[38;5;167;01mRuntimeError\u001b[39;00m(\u001b[38;5;124m\"\u001b[39m\u001b[38;5;124mUnable to handle error\u001b[39m\u001b[38;5;124m\"\u001b[39m)\n",
      "\u001b[0;31mRuntimeError\u001b[0m: Unable to handle error"
     ]
    }
   ],
   "source": [
    "try:\n",
    "    open(\"database.sqlite\")\n",
    "except OSError:\n",
    "    raise RuntimeError(\"Unable to handle error\")"
   ]
  },
  {
   "cell_type": "markdown",
   "id": "c48b357d-fe3f-48b3-953c-6fc2451ae2e0",
   "metadata": {},
   "source": [
    "### To indicate that an exception is a direct cause of another, we use `from` with `raise`"
   ]
  },
  {
   "cell_type": "code",
   "execution_count": 25,
   "id": "2873ba4b-0ce3-42b2-a2b1-0369cfb11eef",
   "metadata": {},
   "outputs": [
    {
     "ename": "RuntimeError",
     "evalue": "Failed to open database",
     "output_type": "error",
     "traceback": [
      "\u001b[0;31m---------------------------------------------------------------------------\u001b[0m",
      "\u001b[0;31mConnectionError\u001b[0m                           Traceback (most recent call last)",
      "Cell \u001b[0;32mIn[25], line 5\u001b[0m\n\u001b[1;32m      4\u001b[0m \u001b[38;5;28;01mtry\u001b[39;00m:\n\u001b[0;32m----> 5\u001b[0m     \u001b[43mfunc\u001b[49m\u001b[43m(\u001b[49m\u001b[43m)\u001b[49m\n\u001b[1;32m      6\u001b[0m \u001b[38;5;28;01mexcept\u001b[39;00m \u001b[38;5;167;01mConnectionError\u001b[39;00m \u001b[38;5;28;01mas\u001b[39;00m err:\n",
      "Cell \u001b[0;32mIn[25], line 2\u001b[0m, in \u001b[0;36mfunc\u001b[0;34m()\u001b[0m\n\u001b[1;32m      1\u001b[0m \u001b[38;5;28;01mdef\u001b[39;00m \u001b[38;5;21mfunc\u001b[39m():\n\u001b[0;32m----> 2\u001b[0m     \u001b[38;5;28;01mraise\u001b[39;00m \u001b[38;5;167;01mConnectionError\u001b[39;00m\n",
      "\u001b[0;31mConnectionError\u001b[0m: ",
      "\nThe above exception was the direct cause of the following exception:\n",
      "\u001b[0;31mRuntimeError\u001b[0m                              Traceback (most recent call last)",
      "Cell \u001b[0;32mIn[25], line 7\u001b[0m\n\u001b[1;32m      5\u001b[0m     func()\n\u001b[1;32m      6\u001b[0m \u001b[38;5;28;01mexcept\u001b[39;00m \u001b[38;5;167;01mConnectionError\u001b[39;00m \u001b[38;5;28;01mas\u001b[39;00m err:\n\u001b[0;32m----> 7\u001b[0m     \u001b[38;5;28;01mraise\u001b[39;00m \u001b[38;5;167;01mRuntimeError\u001b[39;00m(\u001b[38;5;124m\"\u001b[39m\u001b[38;5;124mFailed to open database\u001b[39m\u001b[38;5;124m\"\u001b[39m) \u001b[38;5;28;01mfrom\u001b[39;00m \u001b[38;5;21;01merr\u001b[39;00m\n",
      "\u001b[0;31mRuntimeError\u001b[0m: Failed to open database"
     ]
    }
   ],
   "source": [
    "def func():\n",
    "    raise ConnectionError\n",
    "\n",
    "try:\n",
    "    func()\n",
    "except ConnectionError as err:\n",
    "    raise RuntimeError(\"Failed to open database\") from err"
   ]
  },
  {
   "cell_type": "markdown",
   "id": "d0591f68-585f-4d17-88d2-a977de11ca51",
   "metadata": {},
   "source": [
    "### Disabling exception chaining\n",
    "* use `from None`"
   ]
  },
  {
   "cell_type": "code",
   "execution_count": 28,
   "id": "ad04c42c-ded2-423b-84b2-5c93b8119bcb",
   "metadata": {},
   "outputs": [
    {
     "ename": "RuntimeError",
     "evalue": "Couldnt handle error",
     "output_type": "error",
     "traceback": [
      "\u001b[0;31m---------------------------------------------------------------------------\u001b[0m",
      "\u001b[0;31mRuntimeError\u001b[0m                              Traceback (most recent call last)",
      "Cell \u001b[0;32mIn[28], line 4\u001b[0m\n\u001b[1;32m      2\u001b[0m     f \u001b[38;5;241m=\u001b[39m \u001b[38;5;28mopen\u001b[39m(\u001b[38;5;124m'\u001b[39m\u001b[38;5;124mdatabase.sqlite\u001b[39m\u001b[38;5;124m'\u001b[39m)\n\u001b[1;32m      3\u001b[0m \u001b[38;5;28;01mexcept\u001b[39;00m \u001b[38;5;167;01mOSError\u001b[39;00m \u001b[38;5;28;01mas\u001b[39;00m err:\n\u001b[0;32m----> 4\u001b[0m     \u001b[38;5;28;01mraise\u001b[39;00m \u001b[38;5;167;01mRuntimeError\u001b[39;00m(\u001b[38;5;124m\"\u001b[39m\u001b[38;5;124mCouldnt handle error\u001b[39m\u001b[38;5;124m\"\u001b[39m) \u001b[38;5;28;01mfrom\u001b[39;00m \u001b[38;5;28;01mNone\u001b[39;00m\n",
      "\u001b[0;31mRuntimeError\u001b[0m: Couldnt handle error"
     ]
    }
   ],
   "source": [
    "try:\n",
    "    f = open('database.sqlite')\n",
    "except OSError as err:\n",
    "    raise RuntimeError(\"Couldnt handle error\") from None"
   ]
  },
  {
   "cell_type": "markdown",
   "id": "b8650120-72d1-42c7-9fe4-21ac6da6daea",
   "metadata": {},
   "source": [
    "## Cleanup\n",
    "* intended for cleanup to be triggered under all circumstances"
   ]
  },
  {
   "cell_type": "code",
   "execution_count": 32,
   "id": "6a16679d-87b7-472a-9478-65a6da128ff6",
   "metadata": {},
   "outputs": [
    {
     "name": "stdout",
     "output_type": "stream",
     "text": [
      "Sayonara!\n"
     ]
    },
    {
     "ename": "KeyboardInterrupt",
     "evalue": "",
     "output_type": "error",
     "traceback": [
      "\u001b[0;31m---------------------------------------------------------------------------\u001b[0m",
      "\u001b[0;31mKeyboardInterrupt\u001b[0m                         Traceback (most recent call last)",
      "Cell \u001b[0;32mIn[32], line 3\u001b[0m\n\u001b[1;32m      1\u001b[0m \u001b[38;5;66;03m# note how first finally block runs and then exception is triggered\u001b[39;00m\n\u001b[1;32m      2\u001b[0m \u001b[38;5;28;01mtry\u001b[39;00m:\n\u001b[0;32m----> 3\u001b[0m     \u001b[38;5;28;01mraise\u001b[39;00m \u001b[38;5;167;01mKeyboardInterrupt\u001b[39;00m\n\u001b[1;32m      4\u001b[0m \u001b[38;5;28;01mfinally\u001b[39;00m:\n\u001b[1;32m      5\u001b[0m     \u001b[38;5;28mprint\u001b[39m (\u001b[38;5;124m\"\u001b[39m\u001b[38;5;124mSayonara!\u001b[39m\u001b[38;5;124m\"\u001b[39m)\n",
      "\u001b[0;31mKeyboardInterrupt\u001b[0m: "
     ]
    }
   ],
   "source": [
    "# note how first finally block runs and then exception is triggered\n",
    "try:\n",
    "    raise KeyboardInterrupt\n",
    "finally:\n",
    "    print (\"Sayonara!\")"
   ]
  },
  {
   "cell_type": "code",
   "execution_count": 33,
   "id": "36dd4291-0dc1-4ac9-a7c3-dc938efd129a",
   "metadata": {},
   "outputs": [
    {
     "name": "stdout",
     "output_type": "stream",
     "text": [
      "Sayonara!\n"
     ]
    }
   ],
   "source": [
    "# runs irrespective of whether an exception is triggered\n",
    "try:\n",
    "    #raise KeyboardInterrupt\n",
    "    pass\n",
    "finally:\n",
    "    print (\"Sayonara!\")"
   ]
  },
  {
   "cell_type": "code",
   "execution_count": 37,
   "id": "44e6f80d-4d4f-49a6-83df-ef59912af880",
   "metadata": {},
   "outputs": [
    {
     "data": {
      "text/plain": [
       "False"
      ]
     },
     "execution_count": 37,
     "metadata": {},
     "output_type": "execute_result"
    }
   ],
   "source": [
    "# finally block runs before the return in try block\n",
    "def boolcheck():\n",
    "    try:\n",
    "        return True\n",
    "    finally:\n",
    "        return False\n",
    "boolcheck()"
   ]
  },
  {
   "cell_type": "markdown",
   "id": "052a8748-0c62-4d7f-902c-e272febefe10",
   "metadata": {},
   "source": [
    "* `if an exception is not handled by any of the except clause, then the exception is re-raised after the finally clause has been executed`\n",
    "  "
   ]
  },
  {
   "cell_type": "markdown",
   "id": "68bbdf46-7c1f-4e53-bf6d-c655903ffdac",
   "metadata": {},
   "source": [
    "## Raising and Handling Multiple Unrelated Exceptions\n",
    "* There are sometimes cases where we might want to collect multiple exceptions and raise them together rather than raising the first occurrence of an exception.\n",
    "* `ExceptionGroup` comes to the rescue in such conditions"
   ]
  },
  {
   "cell_type": "code",
   "execution_count": 44,
   "id": "362e3023-8db0-4760-8911-ba39e711aca3",
   "metadata": {},
   "outputs": [
    {
     "name": "stderr",
     "output_type": "stream",
     "text": [
      "  + Exception Group Traceback (most recent call last):\n",
      "  |   File \"/opt/homebrew/lib/python3.11/site-packages/IPython/core/interactiveshell.py\", line 3526, in run_code\n",
      "  |     exec(code_obj, self.user_global_ns, self.user_ns)\n",
      "  |   File \"/var/folders/hn/gyz7snmj12d32mx4r_tvdm4w0000gn/T/ipykernel_47305/2001585064.py\", line 4, in <module>\n",
      "  |     func()\n",
      "  |   File \"/var/folders/hn/gyz7snmj12d32mx4r_tvdm4w0000gn/T/ipykernel_47305/2001585064.py\", line 3, in func\n",
      "  |     raise ExceptionGroup('there were problems', excs)\n",
      "  | ExceptionGroup: there were problems (2 sub-exceptions)\n",
      "  +-+---------------- 1 ----------------\n",
      "    | ValueError: error 1\n",
      "    +---------------- 2 ----------------\n",
      "    | SystemError: error 2\n",
      "    +------------------------------------\n"
     ]
    }
   ],
   "source": [
    "def func():\n",
    "    excs = [ValueError('error 1'), SystemError('error 2')]\n",
    "    raise ExceptionGroup('there were problems', excs)\n",
    "func()"
   ]
  },
  {
   "cell_type": "code",
   "execution_count": 52,
   "id": "c7fc3c67-4174-4dd9-91cf-0efa2d41fd8c",
   "metadata": {},
   "outputs": [
    {
     "name": "stdout",
     "output_type": "stream",
     "text": [
      "caught: <class 'ExceptionGroup'>: ('there were problems', [ValueError('error 1'), SystemError('error 2')])\n"
     ]
    }
   ],
   "source": [
    "try:\n",
    "    func()\n",
    "except Exception as e:\n",
    "    print (f'caught: {type(e)}: {e.args}')"
   ]
  },
  {
   "cell_type": "markdown",
   "id": "777fdeee-211c-41db-a2b4-779eb3df6907",
   "metadata": {},
   "source": [
    "## Enriching exceptions with notes\n",
    "* You can add more notes beyond a caught exception comment\n",
    "* "
   ]
  },
  {
   "cell_type": "code",
   "execution_count": 56,
   "id": "d8fbeaed-a397-4ec9-b80f-af89e9e95e7b",
   "metadata": {},
   "outputs": [
    {
     "ename": "TypeError",
     "evalue": "BaseExceptionGroup.__new__() takes exactly 2 arguments (1 given)",
     "output_type": "error",
     "traceback": [
      "\u001b[0;31m---------------------------------------------------------------------------\u001b[0m",
      "\u001b[0;31mTypeError\u001b[0m                                 Traceback (most recent call last)",
      "Cell \u001b[0;32mIn[56], line 10\u001b[0m\n\u001b[1;32m      8\u001b[0m         e\u001b[38;5;241m.\u001b[39madd_note(\u001b[38;5;124mf\u001b[39m\u001b[38;5;124m\"\u001b[39m\u001b[38;5;124mMore information on error \u001b[39m\u001b[38;5;132;01m{\u001b[39;00mi\u001b[38;5;132;01m}\u001b[39;00m\u001b[38;5;124m\"\u001b[39m)\n\u001b[1;32m      9\u001b[0m         allexcs\u001b[38;5;241m.\u001b[39mappend(e)\n\u001b[0;32m---> 10\u001b[0m \u001b[38;5;28;01mraise\u001b[39;00m \u001b[43mExceptionGroup\u001b[49m\u001b[43m(\u001b[49m\u001b[38;5;124;43mf\u001b[39;49m\u001b[38;5;124;43m\"\u001b[39;49m\u001b[38;5;124;43mall exceptions raised: \u001b[39;49m\u001b[38;5;132;43;01m{\u001b[39;49;00m\u001b[43mallexcs\u001b[49m\u001b[38;5;132;43;01m}\u001b[39;49;00m\u001b[38;5;124;43m\"\u001b[39;49m\u001b[43m)\u001b[49m\n",
      "\u001b[0;31mTypeError\u001b[0m: BaseExceptionGroup.__new__() takes exactly 2 arguments (1 given)"
     ]
    }
   ],
   "source": [
    "def func():\n",
    "    raise OSError(\"OS Error\")\n",
    "allexcs = []\n",
    "for i in range(3):\n",
    "    try:\n",
    "        func()\n",
    "    except Exception as e:\n",
    "        e.add_note(f\"More information on error {i}\")\n",
    "        allexcs.append(e)\n",
    "raise ExceptionGroup(f\"all exceptions raised\",allexcs}\")"
   ]
  },
  {
   "cell_type": "code",
   "execution_count": null,
   "id": "6dd25e44-6132-4345-af87-99de02e7c80d",
   "metadata": {},
   "outputs": [],
   "source": []
  }
 ],
 "metadata": {
  "kernelspec": {
   "display_name": "Python 3 (ipykernel)",
   "language": "python",
   "name": "python3"
  },
  "language_info": {
   "codemirror_mode": {
    "name": "ipython",
    "version": 3
   },
   "file_extension": ".py",
   "mimetype": "text/x-python",
   "name": "python",
   "nbconvert_exporter": "python",
   "pygments_lexer": "ipython3",
   "version": "3.11.6"
  }
 },
 "nbformat": 4,
 "nbformat_minor": 5
}
